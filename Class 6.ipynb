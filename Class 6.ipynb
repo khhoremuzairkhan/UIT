{
 "cells": [
  {
   "cell_type": "markdown",
   "metadata": {},
   "source": [
    "#                                                NESTED FOR LOOP"
   ]
  },
  {
   "cell_type": "code",
   "execution_count": 2,
   "metadata": {},
   "outputs": [
    {
     "name": "stdout",
     "output_type": "stream",
     "text": [
      "Nasir Hussain\n",
      "Nasir Qureshi\n",
      "Nasir Khan\n",
      "Hussain Hussain\n",
      "Hussain Qureshi\n",
      "Hussain Khan\n",
      "Mansoor Hussain\n",
      "Mansoor Qureshi\n",
      "Mansoor Khan\n",
      "Asad Hussain\n",
      "Asad Qureshi\n",
      "Asad Khan\n"
     ]
    }
   ],
   "source": [
    "firstName= ['Nasir','Hussain', 'Mansoor','Asad']\n",
    "lastName= ['Hussain', 'Qureshi','Khan']\n",
    "for fname in firstName:\n",
    "    \n",
    "    for lname in lastName:\n",
    "        print(f'{fname} {lname}')"
   ]
  },
  {
   "cell_type": "code",
   "execution_count": 4,
   "metadata": {},
   "outputs": [
    {
     "name": "stdout",
     "output_type": "stream",
     "text": [
      "Enter a number to get its table:    5\n",
      "\n",
      "5 x 1 = 5\n",
      "5 x 2 = 10\n",
      "5 x 3 = 15\n",
      "5 x 4 = 20\n",
      "5 x 5 = 25\n",
      "5 x 6 = 30\n",
      "5 x 7 = 35\n",
      "5 x 8 = 40\n",
      "5 x 9 = 45\n",
      "5 x 10 = 50\n",
      "5 x 11 = 55\n",
      "5 x 12 = 60\n"
     ]
    }
   ],
   "source": [
    "num=int(input('Enter a number to get its table:    '))\n",
    "print('')\n",
    "for i in range(1,13):\n",
    "    ans=num*i\n",
    "    print(f'{num} x {i} = {ans}')\n",
    "    "
   ]
  },
  {
   "cell_type": "code",
   "execution_count": 9,
   "metadata": {},
   "outputs": [
    {
     "name": "stdout",
     "output_type": "stream",
     "text": [
      "Enter starting range of the table:    3\n",
      "Enter ending range of the table:    6\n",
      "\n",
      "3 x 1 = 3\n",
      "3 x 2 = 6\n",
      "3 x 3 = 9\n",
      "3 x 4 = 12\n",
      "3 x 5 = 15\n",
      "3 x 6 = 18\n",
      "3 x 7 = 21\n",
      "3 x 8 = 24\n",
      "3 x 9 = 27\n",
      "3 x 10 = 30\n",
      "3 x 11 = 33\n",
      "3 x 12 = 36\n",
      "\n",
      "4 x 1 = 4\n",
      "4 x 2 = 8\n",
      "4 x 3 = 12\n",
      "4 x 4 = 16\n",
      "4 x 5 = 20\n",
      "4 x 6 = 24\n",
      "4 x 7 = 28\n",
      "4 x 8 = 32\n",
      "4 x 9 = 36\n",
      "4 x 10 = 40\n",
      "4 x 11 = 44\n",
      "4 x 12 = 48\n",
      "\n",
      "5 x 1 = 5\n",
      "5 x 2 = 10\n",
      "5 x 3 = 15\n",
      "5 x 4 = 20\n",
      "5 x 5 = 25\n",
      "5 x 6 = 30\n",
      "5 x 7 = 35\n",
      "5 x 8 = 40\n",
      "5 x 9 = 45\n",
      "5 x 10 = 50\n",
      "5 x 11 = 55\n",
      "5 x 12 = 60\n",
      "\n",
      "6 x 1 = 6\n",
      "6 x 2 = 12\n",
      "6 x 3 = 18\n",
      "6 x 4 = 24\n",
      "6 x 5 = 30\n",
      "6 x 6 = 36\n",
      "6 x 7 = 42\n",
      "6 x 8 = 48\n",
      "6 x 9 = 54\n",
      "6 x 10 = 60\n",
      "6 x 11 = 66\n",
      "6 x 12 = 72\n",
      "\n"
     ]
    }
   ],
   "source": [
    "first_num=int(input('Enter starting range of the table:    '))\n",
    "last_num=int(input('Enter ending range of the table:    '))\n",
    "print('')\n",
    "for i in range(first_num,last_num+1):\n",
    "    for j in range(1,13):\n",
    "        ans=j*i\n",
    "        print(f'{i} x {j} = {ans}')\n",
    "    print('')"
   ]
  },
  {
   "cell_type": "markdown",
   "metadata": {},
   "source": [
    "# Sir ka code for the same problem"
   ]
  },
  {
   "cell_type": "code",
   "execution_count": 8,
   "metadata": {},
   "outputs": [
    {
     "name": "stdout",
     "output_type": "stream",
     "text": [
      "Enter table number of your choice10\n",
      "0 x 1 = 0\n",
      "0 x 2 = 0\n",
      "0 x 3 = 0\n",
      "0 x 4 = 0\n",
      "0 x 5 = 0\n",
      "0 x 6 = 0\n",
      "0 x 7 = 0\n",
      "0 x 8 = 0\n",
      "0 x 9 = 0\n",
      "0 x 10 = 0\n",
      "0 x 11 = 0\n",
      "0 x 12 = 0\n",
      "1 x 1 = 1\n",
      "1 x 2 = 2\n",
      "1 x 3 = 3\n",
      "1 x 4 = 4\n",
      "1 x 5 = 5\n",
      "1 x 6 = 6\n",
      "1 x 7 = 7\n",
      "1 x 8 = 8\n",
      "1 x 9 = 9\n",
      "1 x 10 = 10\n",
      "1 x 11 = 11\n",
      "1 x 12 = 12\n",
      "2 x 1 = 2\n",
      "2 x 2 = 4\n",
      "2 x 3 = 6\n",
      "2 x 4 = 8\n",
      "2 x 5 = 10\n",
      "2 x 6 = 12\n",
      "2 x 7 = 14\n",
      "2 x 8 = 16\n",
      "2 x 9 = 18\n",
      "2 x 10 = 20\n",
      "2 x 11 = 22\n",
      "2 x 12 = 24\n",
      "3 x 1 = 3\n",
      "3 x 2 = 6\n",
      "3 x 3 = 9\n",
      "3 x 4 = 12\n",
      "3 x 5 = 15\n",
      "3 x 6 = 18\n",
      "3 x 7 = 21\n",
      "3 x 8 = 24\n",
      "3 x 9 = 27\n",
      "3 x 10 = 30\n",
      "3 x 11 = 33\n",
      "3 x 12 = 36\n",
      "4 x 1 = 4\n",
      "4 x 2 = 8\n",
      "4 x 3 = 12\n",
      "4 x 4 = 16\n",
      "4 x 5 = 20\n",
      "4 x 6 = 24\n",
      "4 x 7 = 28\n",
      "4 x 8 = 32\n",
      "4 x 9 = 36\n",
      "4 x 10 = 40\n",
      "4 x 11 = 44\n",
      "4 x 12 = 48\n",
      "5 x 1 = 5\n",
      "5 x 2 = 10\n",
      "5 x 3 = 15\n",
      "5 x 4 = 20\n",
      "5 x 5 = 25\n",
      "5 x 6 = 30\n",
      "5 x 7 = 35\n",
      "5 x 8 = 40\n",
      "5 x 9 = 45\n",
      "5 x 10 = 50\n",
      "5 x 11 = 55\n",
      "5 x 12 = 60\n",
      "6 x 1 = 6\n",
      "6 x 2 = 12\n",
      "6 x 3 = 18\n",
      "6 x 4 = 24\n",
      "6 x 5 = 30\n",
      "6 x 6 = 36\n",
      "6 x 7 = 42\n",
      "6 x 8 = 48\n",
      "6 x 9 = 54\n",
      "6 x 10 = 60\n",
      "6 x 11 = 66\n",
      "6 x 12 = 72\n",
      "7 x 1 = 7\n",
      "7 x 2 = 14\n",
      "7 x 3 = 21\n",
      "7 x 4 = 28\n",
      "7 x 5 = 35\n",
      "7 x 6 = 42\n",
      "7 x 7 = 49\n",
      "7 x 8 = 56\n",
      "7 x 9 = 63\n",
      "7 x 10 = 70\n",
      "7 x 11 = 77\n",
      "7 x 12 = 84\n",
      "8 x 1 = 8\n",
      "8 x 2 = 16\n",
      "8 x 3 = 24\n",
      "8 x 4 = 32\n",
      "8 x 5 = 40\n",
      "8 x 6 = 48\n",
      "8 x 7 = 56\n",
      "8 x 8 = 64\n",
      "8 x 9 = 72\n",
      "8 x 10 = 80\n",
      "8 x 11 = 88\n",
      "8 x 12 = 96\n",
      "9 x 1 = 9\n",
      "9 x 2 = 18\n",
      "9 x 3 = 27\n",
      "9 x 4 = 36\n",
      "9 x 5 = 45\n",
      "9 x 6 = 54\n",
      "9 x 7 = 63\n",
      "9 x 8 = 72\n",
      "9 x 9 = 81\n",
      "9 x 10 = 90\n",
      "9 x 11 = 99\n",
      "9 x 12 = 108\n"
     ]
    }
   ],
   "source": [
    "tnums = int(input('Enter table number of your choice'))\n",
    "for num in range(tnums):\n",
    "    for count in range (1,13):\n",
    "        \n",
    "        print(f'{num} x {count} = {num*count}')"
   ]
  },
  {
   "cell_type": "code",
   "execution_count": 25,
   "metadata": {},
   "outputs": [
    {
     "name": "stdout",
     "output_type": "stream",
     "text": [
      "Enter starting range of the table:    3\n",
      "Enter ending range of the table:    5\n",
      "\n",
      "3 x 1 = 3\n",
      "3 x 2 = 6\n",
      "3 x 3 = 9\n",
      "3 x 4 = 12\n",
      "3 x 5 = 15\n",
      "3 x 7 = 21\n",
      "3 x 8 = 24\n",
      "3 x 9 = 27\n",
      "3 x 10 = 30\n",
      "3 x 11 = 33\n",
      "3 x 12 = 36\n",
      "\n",
      "4 x 1 = 4\n",
      "4 x 2 = 8\n",
      "4 x 3 = 12\n",
      "4 x 4 = 16\n",
      "4 x 5 = 20\n",
      "4 x 7 = 28\n",
      "4 x 8 = 32\n",
      "4 x 9 = 36\n",
      "4 x 10 = 40\n",
      "4 x 11 = 44\n",
      "4 x 12 = 48\n",
      "\n",
      "5 x 1 = 5\n",
      "5 x 2 = 10\n",
      "5 x 3 = 15\n",
      "5 x 4 = 20\n",
      "5 x 5 = 25\n",
      "5 x 7 = 35\n",
      "5 x 8 = 40\n",
      "5 x 9 = 45\n",
      "5 x 10 = 50\n",
      "5 x 11 = 55\n",
      "5 x 12 = 60\n",
      "\n"
     ]
    }
   ],
   "source": [
    "first_num=int(input('Enter starting range of the table:    '))\n",
    "last_num=int(input('Enter ending range of the table:    '))\n",
    "print('')\n",
    "for i in range(first_num,last_num+1):\n",
    "    for j in range(1,13):\n",
    "        ans=j*i\n",
    "        if j==6:\n",
    "            continue\n",
    "        else:\n",
    "            print(f'{i} x {j} = {ans}')\n",
    "    print('')"
   ]
  },
  {
   "cell_type": "code",
   "execution_count": 24,
   "metadata": {},
   "outputs": [
    {
     "name": "stdout",
     "output_type": "stream",
     "text": [
      "Enter starting range of the table:    3\n",
      "Enter ending range of the table:    5\n",
      "\n",
      "3 x 1 = 3\n",
      "3 x 3 = 9\n",
      "3 x 5 = 15\n",
      "3 x 7 = 21\n",
      "3 x 9 = 27\n",
      "3 x 11 = 33\n",
      "\n",
      "4 x 1 = 4\n",
      "4 x 2 = 8\n",
      "4 x 4 = 16\n",
      "4 x 5 = 20\n",
      "4 x 7 = 28\n",
      "4 x 8 = 32\n",
      "4 x 10 = 40\n",
      "4 x 11 = 44\n",
      "\n",
      "5 x 1 = 5\n",
      "5 x 2 = 10\n",
      "5 x 3 = 15\n",
      "5 x 4 = 20\n",
      "5 x 5 = 25\n",
      "5 x 7 = 35\n",
      "5 x 8 = 40\n",
      "5 x 9 = 45\n",
      "5 x 10 = 50\n",
      "5 x 11 = 55\n",
      "\n"
     ]
    }
   ],
   "source": [
    "first_num=int(input('Enter starting range of the table:    '))\n",
    "last_num=int(input('Enter ending range of the table:    '))\n",
    "print('')\n",
    "for i in range(first_num,last_num+1):\n",
    "    for j in range(1,13):\n",
    "        ans=j*i\n",
    "        if ans%6==0:\n",
    "            continue\n",
    "        else:\n",
    "            print(f'{i} x {j} = {ans}')\n",
    "    print('')"
   ]
  },
  {
   "cell_type": "markdown",
   "metadata": {},
   "source": [
    "further lecture notes"
   ]
  },
  {
   "cell_type": "code",
   "execution_count": 14,
   "metadata": {},
   "outputs": [],
   "source": [
    "a=('pa', 1, True) #packing"
   ]
  },
  {
   "cell_type": "code",
   "execution_count": 15,
   "metadata": {},
   "outputs": [],
   "source": [
    "b=['pa', 1, True] #packing"
   ]
  },
  {
   "cell_type": "code",
   "execution_count": 16,
   "metadata": {},
   "outputs": [],
   "source": [
    "ss,dd,ff=a #unpacking"
   ]
  },
  {
   "cell_type": "code",
   "execution_count": 17,
   "metadata": {},
   "outputs": [
    {
     "data": {
      "text/plain": [
       "'pa'"
      ]
     },
     "execution_count": 17,
     "metadata": {},
     "output_type": "execute_result"
    }
   ],
   "source": [
    "ss"
   ]
  },
  {
   "cell_type": "code",
   "execution_count": 18,
   "metadata": {},
   "outputs": [
    {
     "data": {
      "text/plain": [
       "1"
      ]
     },
     "execution_count": 18,
     "metadata": {},
     "output_type": "execute_result"
    }
   ],
   "source": [
    "dd"
   ]
  },
  {
   "cell_type": "code",
   "execution_count": 19,
   "metadata": {},
   "outputs": [
    {
     "data": {
      "text/plain": [
       "True"
      ]
     },
     "execution_count": 19,
     "metadata": {},
     "output_type": "execute_result"
    }
   ],
   "source": [
    "ff"
   ]
  },
  {
   "cell_type": "code",
   "execution_count": 20,
   "metadata": {},
   "outputs": [],
   "source": [
    "q,w,e=b #unpacking"
   ]
  },
  {
   "cell_type": "code",
   "execution_count": 21,
   "metadata": {},
   "outputs": [
    {
     "data": {
      "text/plain": [
       "'pa'"
      ]
     },
     "execution_count": 21,
     "metadata": {},
     "output_type": "execute_result"
    }
   ],
   "source": [
    "q"
   ]
  },
  {
   "cell_type": "code",
   "execution_count": 22,
   "metadata": {},
   "outputs": [
    {
     "data": {
      "text/plain": [
       "1"
      ]
     },
     "execution_count": 22,
     "metadata": {},
     "output_type": "execute_result"
    }
   ],
   "source": [
    "w"
   ]
  },
  {
   "cell_type": "code",
   "execution_count": 23,
   "metadata": {},
   "outputs": [
    {
     "data": {
      "text/plain": [
       "True"
      ]
     },
     "execution_count": 23,
     "metadata": {},
     "output_type": "execute_result"
    }
   ],
   "source": [
    "e"
   ]
  },
  {
   "cell_type": "code",
   "execution_count": 31,
   "metadata": {},
   "outputs": [
    {
     "name": "stdout",
     "output_type": "stream",
     "text": [
      "Please input size of Pizza:  l\n",
      "Please tell your desired flavour.  e\n",
      "Enter the topic you want.  Tomatoe Sauce\n",
      "sorry your toppings aren't available\n"
     ]
    }
   ],
   "source": [
    "toppings=['cheesy','chilli','tomatoe sauce','onion']\n",
    "size_of_pizza=input('Please input size of Pizza:  ')\n",
    "flavour_of_pizza=input(\"Please tell your desired flavour.  \")\n",
    "topping_of_pizza=input('Enter the topic you want.  ').lower()\n",
    "if topping_of_pizza in toppings:\n",
    "    print(f'your {size_of_pizza} Pizza of {flavour_of_pizza} with {topping_of_pizza} topping shall be delivered soon\\n thank you.')\n",
    "else:\n",
    "          print(\"sorry your toppings aren't available\")\n"
   ]
  },
  {
   "cell_type": "code",
   "execution_count": 33,
   "metadata": {},
   "outputs": [
    {
     "name": "stdout",
     "output_type": "stream",
     "text": [
      "Please input size of Pizza:  large\n",
      "Please tell your desired flavour.  tikka\n",
      "Enter the topping you want.  cheesy\n",
      "Would you like more toppings: yes\n",
      "Enter the topping you want.  mushroom\n",
      "sorry your toppings aren't available\n",
      "Would you like more toppings: yes\n",
      "Enter the topping you want.  onion\n",
      "Would you like more toppings: no\n",
      "your large Pizza of tikka with ['onion'] topping shall be delivered soon\n",
      " thank you.\n"
     ]
    }
   ],
   "source": [
    "toppings=['cheesy','chilli','tomatoe sauce','onion','macroni','mushroom','sausage']\n",
    "size_of_pizza=input('Please input size of Pizza:  ')\n",
    "flavour_of_pizza=input(\"Please tell your desired flavour.  \")\n",
    "more='yes'\n",
    "while more=='yes':\n",
    "    user_toppings=[]\n",
    "    topping_of_pizza=input('Enter the topping you want.  ').lower()\n",
    "    if topping_of_pizza in toppings:\n",
    "        if \n",
    "        user_toppings.append(topping_of_pizza)\n",
    "    else:\n",
    "        print(\"sorry your toppings aren't available\")\n",
    "    more=input('Would you like more toppings: ').lower().replace(' ','')\n",
    "    \n",
    "print(f'your {size_of_pizza} Pizza of {flavour_of_pizza} with {user_toppings} topping shall be delivered soon\\n thank you.')\n",
    "\n",
    "          "
   ]
  },
  {
   "cell_type": "code",
   "execution_count": 2,
   "metadata": {},
   "outputs": [
    {
     "name": "stdout",
     "output_type": "stream",
     "text": [
      "Please input size of Pizza:  large\n",
      "Please tell your desired flavour.  tikka\n",
      "Enter toppingschilli\n",
      "['chilli']\n",
      "Enter toppingsq\n",
      "your order has been recorded.\n",
      "\n",
      "Your large sized pizza of tikka flavour with the toppings ['chilli']\n"
     ]
    }
   ],
   "source": [
    "toppings=['cheesy','chilli','tomatoe sauce','onion','macroni','mushroom','sausage']\n",
    "user_toppings=[]\n",
    "size_of_pizza=input('Please input size of Pizza:  ')\n",
    "flavour_of_pizza=input(\"Please tell your desired flavour.  \")\n",
    "flag = True\n",
    "while flag:\n",
    "    topping = input('Enter toppings')\n",
    "    if topping =='q':\n",
    "        break\n",
    "    elif topping in toppings:\n",
    "        if topping in user_toppings:\n",
    "            print('already added')\n",
    "        else:\n",
    "            user_toppings.append(topping)\n",
    "            \n",
    "    else:\n",
    "        print('This topping is not available.')\n",
    "print(f'your order has been recorded.\\n\\nYour {size_of_pizza} sized pizza of {flavour_of_pizza} flavour with the toppings {user_toppings} is ready')"
   ]
  },
  {
   "cell_type": "code",
   "execution_count": 35,
   "metadata": {},
   "outputs": [
    {
     "data": {
      "text/plain": [
       "[]"
      ]
     },
     "execution_count": 35,
     "metadata": {},
     "output_type": "execute_result"
    }
   ],
   "source": [
    "user_toppings"
   ]
  },
  {
   "cell_type": "code",
   "execution_count": 3,
   "metadata": {},
   "outputs": [],
   "source": [
    "# %laod filename.py"
   ]
  },
  {
   "cell_type": "code",
   "execution_count": null,
   "metadata": {},
   "outputs": [],
   "source": []
  }
 ],
 "metadata": {
  "kernelspec": {
   "display_name": "Python 3",
   "language": "python",
   "name": "python3"
  },
  "language_info": {
   "codemirror_mode": {
    "name": "ipython",
    "version": 3
   },
   "file_extension": ".py",
   "mimetype": "text/x-python",
   "name": "python",
   "nbconvert_exporter": "python",
   "pygments_lexer": "ipython3",
   "version": "3.7.4"
  }
 },
 "nbformat": 4,
 "nbformat_minor": 2
}
